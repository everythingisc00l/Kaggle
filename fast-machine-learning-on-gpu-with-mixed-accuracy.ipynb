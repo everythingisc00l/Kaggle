{
 "cells": [
  {
   "cell_type": "markdown",
   "id": "e3cebe8f",
   "metadata": {
    "papermill": {
     "duration": 0.001957,
     "end_time": "2024-01-27T22:28:35.035530",
     "exception": false,
     "start_time": "2024-01-27T22:28:35.033573",
     "status": "completed"
    },
    "tags": []
   },
   "source": [
    "# Fast machine learning on GPU with mixed-accuracy\n",
    "#### In this notebook i want to demonstrate how we can upspeed our calculations on tensors with GPU to 2-3x fast.\n",
    "\n",
    "[Half-precision floating-point format](https://en.wikipedia.org/wiki/Half-precision_floating-point_format \"Half-precision_floating-point_format\") - is a binary floating-point computer number format that occupies 16 bits.\n",
    "\n",
    "To enable this kind of training in fastai, you can simply add to_fp16() after creating the Learner. You will also need to import the module. This will allow the training process to use half-precision floating-point numbers, which require less memory on the GPU.\n",
    "\n",
    "![](https://upload.wikimedia.org/wikipedia/commons/thumb/2/21/IEEE_754r_Half_Floating_Point_Format.svg/263px-IEEE_754r_Half_Floating_Point_Format.svg.png)\n",
    "\n",
    "------------\n",
    "for example in **fast.ai**:\n",
    "\n",
    "```python\n",
    "from fastai2.callback.fp16 import *\n",
    "learn = cnn_learner(dls, resnet50, metrics=error_rate).to_fp16()\n",
    "learn.fine_tune(6, freeze_epochs=3)\n",
    "```\n",
    "for example in **PyTorch** - BFloat16 is more stable than FP16 during training, we do not need to worry about any gradient scaling or nan gradient values that comes with using FP16 mixed precision.:\n",
    "\n",
    "```python\n",
    "Trainer(gpus=1, precision=\"bf16\")\n",
    "```\n",
    "\n"
   ]
  }
 ],
 "metadata": {
  "kaggle": {
   "accelerator": "none",
   "dataSources": [],
   "dockerImageVersionId": 30635,
   "isGpuEnabled": false,
   "isInternetEnabled": true,
   "language": "python",
   "sourceType": "notebook"
  },
  "kernelspec": {
   "display_name": "Python 3",
   "language": "python",
   "name": "python3"
  },
  "language_info": {
   "codemirror_mode": {
    "name": "ipython",
    "version": 3
   },
   "file_extension": ".py",
   "mimetype": "text/x-python",
   "name": "python",
   "nbconvert_exporter": "python",
   "pygments_lexer": "ipython3",
   "version": "3.10.12"
  },
  "papermill": {
   "default_parameters": {},
   "duration": 3.927069,
   "end_time": "2024-01-27T22:28:35.457623",
   "environment_variables": {},
   "exception": null,
   "input_path": "__notebook__.ipynb",
   "output_path": "__notebook__.ipynb",
   "parameters": {},
   "start_time": "2024-01-27T22:28:31.530554",
   "version": "2.4.0"
  }
 },
 "nbformat": 4,
 "nbformat_minor": 5
}
